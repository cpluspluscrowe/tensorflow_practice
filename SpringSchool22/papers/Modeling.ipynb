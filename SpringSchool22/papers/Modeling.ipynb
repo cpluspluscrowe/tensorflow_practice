{
 "cells": [
  {
   "cell_type": "code",
   "execution_count": 8,
   "metadata": {
    "execution_time": {
     "end_time": "2021-10-20T17:41:32.436427Z",
     "start_time": "2021-10-20T17:40:56.179337Z"
    }
   },
   "outputs": [],
   "source": [
    "from pyspark.sql.dataframe import DataFrame\n",
    "from pyspark.sql.functions import (\n",
    "    array,\n",
    "    col,\n",
    "    concat,\n",
    "    explode,\n",
    "    lit,\n",
    "    struct,\n",
    "    to_date,\n",
    "    to_utc_timestamp,\n",
    "    udf,\n",
    "    when,\n",
    ")\n",
    "from pyspark.sql import SparkSession\n",
    "from pyspark.sql.functions import *\n",
    "reader = spark.read\n",
    "path = \"/data/tracking/streaming/AdTrainingDataEvent/daily/2021/10/18/compaction_1/*\"\n",
    "data = reader.format(\"orc\").load(path)"
   ]
  },
  {
   "cell_type": "code",
   "execution_count": 85,
   "metadata": {
    "execution_time": {
     "end_time": "2021-10-20T18:24:19.351376Z",
     "start_time": "2021-10-20T18:24:17.303552Z"
    }
   },
   "outputs": [],
   "source": [
    "from pyspark.sql.functions import row_number,lit\n",
    "from pyspark.sql.window import Window\n",
    "w = Window().orderBy(lit('A'))\n",
    "df = df.withColumn(\"row_num\", row_number().over(w))\n",
    "print(df.columns)\n",
    "#df.select(\"row_num\").show()"
   ]
  },
  {
   "cell_type": "code",
   "execution_count": 86,
   "metadata": {
    "execution_time": {
     "end_time": "2021-10-20T18:24:24.216297Z",
     "start_time": "2021-10-20T18:24:22.175866Z"
    }
   },
   "outputs": [],
   "source": [
    "def get_sized_df(df):\n",
    "    total = df.count()\n",
    "    step_amount = 100000\n",
    "    for x in range(0, total, step_amount):\n",
    "        partial = df.filter((df.row_num >= x) & (df.row_num < x + step_amount))\n",
    "        yield partial\n",
    "\n",
    "rc = df.select(\"requestContext\", \"row_num\")\n",
    "generator = get_sized_df(rc)\n",
    "\n",
    "#print(next(generator).count())"
   ]
  },
  {
   "cell_type": "code",
   "execution_count": 80,
   "metadata": {
    "execution_time": {
     "end_time": "2021-10-20T18:21:31.520455Z",
     "start_time": "2021-10-20T18:21:31.484435Z"
    }
   },
   "outputs": [],
   "source": []
  },
  {
   "cell_type": "code",
   "execution_count": null,
   "metadata": {
    "execution_time": {
     "end_time": "2021-10-20T18:23:59.536981Z",
     "start_time": "2021-10-20T18:23:23.336255Z"
    }
   },
   "outputs": [],
   "source": [
    "stored_features = set()\n",
    "\n",
    "def get_feature_set(df):\n",
    "    rows = rc.collect()\n",
    "    s = set()\n",
    "    for row in rows:\n",
    "        variables = row[\"requestContext\"].keys()\n",
    "        for variable in variables:\n",
    "            s.add(variable)\n",
    "    return s\n",
    "\n",
    "\n",
    "for df in generator:\n",
    "    feature_set = get_feature_set(df)\n",
    "    stored_features.update(feature_set)\n",
    "\n",
    "for x in sorted(stored_features):\n",
    "    print(x)"
   ]
  },
  {
   "cell_type": "markdown",
   "metadata": {
    "execution_time": {
     "end_time": "2021-10-20T17:47:49.515885Z",
     "start_time": "2021-10-20T17:47:49.483479Z"
    }
   },
   "source": [
    "# Request Context Features\n",
    "- ENGAGEMENT\n",
    "- LEGACY\n",
    "- WEBSITE_VISIT\n",
    "- activity_id\n",
    "- adFormat\n",
    "- advertiser_id\n",
    "- auction_position\n",
    "- campaign_chargeability\n",
    "- campaign_cost_type\n",
    "- campaign_id\n",
    "- campaign_objective_type\n",
    "- campaign_type\n",
    "- channel_id\n",
    "- channel_position\n",
    "- clicked\n",
    "- cost\n",
    "- creative_id\n",
    "- device\n",
    "- feed_tracking_id\n",
    "- format\n",
    "- impressionDiscountFactor\n",
    "- impression_duration\n",
    "- impression_id\n",
    "- member_id\n",
    "- modelType\n",
    "- modelVersion\n",
    "- originalPctr\n",
    "- parameters\n",
    "- pctr\n",
    "- position\n",
    "- positionCorrectionFactor\n",
    "- position_layout\n",
    "- position_page\n",
    "- request_id\n",
    "- request_impression_delay\n",
    "- scoring_tracking_time\n",
    "- swap_context\n",
    "- tracking_time\n",
    "- tscpHitAttribute\n",
    "- viewed"
   ]
  },
  {
   "cell_type": "code",
   "execution_count": 30,
   "metadata": {
    "execution_time": {
     "end_time": "2021-08-04T00:43:38.217984Z",
     "start_time": "2021-08-04T00:43:36.175752Z"
    }
   },
   "outputs": [],
   "source": [
    "data.createOrReplaceTempView('data')"
   ]
  },
  {
   "cell_type": "code",
   "execution_count": 103,
   "metadata": {
    "execution_time": {
     "end_time": "2021-08-04T03:09:38.856639Z",
     "start_time": "2021-08-04T02:50:36.116007Z"
    }
   },
   "outputs": [],
   "source": [
    "%%spark -c sql -o local_pandas_df -n 16808591\n",
    "select * from data"
   ]
  },
  {
   "cell_type": "code",
   "execution_count": 9,
   "metadata": {
    "execution_time": {
     "end_time": "2021-08-03T23:50:56.970107Z",
     "start_time": "2021-08-03T23:50:56.966507Z"
    }
   },
   "outputs": [],
   "source": [
    "%%local\n",
    "#for row in local_pandas_df.itertuples():\n",
    "#    print(row)"
   ]
  },
  {
   "cell_type": "code",
   "execution_count": 96,
   "metadata": {
    "execution_time": {
     "end_time": "2021-08-04T02:38:58.827789Z",
     "start_time": "2021-08-04T02:38:43.650939Z"
    }
   },
   "outputs": [],
   "source": [
    "%%local\n",
    "import numpy as np\n",
    "import math\n",
    "\n",
    "\n",
    "Xs = []\n",
    "ys = []\n",
    "\n",
    "features = []\n",
    "Xs = []\n",
    "ys = []\n",
    "for row in local_pandas_df.itertuples():\n",
    "    X = np.array([row.awareness_0_1, row.awareness_2_3, row.awareness_4_7, row.awareness_8_30, row.awareness_31_60, row.awareness_61_90, row.awareness_91_120, row.awareness_121_150, row.awareness_151_180, row.awareness_181_210, row.awareness_211_240, row.awareness_241_270, row.awareness_271_300, row.awareness_301_330, row.awareness_331_360, row.visit_0_1, row.visit_2_3, row.visit_4_7, row.visit_8_30, row.visit_31_60, row.visit_61_90, row.visit_91_120, row.visit_121_150, row.visit_151_180, row.visit_181_210, row.visit_211_240, row.visit_241_270, row.visit_271_300, row.visit_301_330, row.visit_331_360])\n",
    "    y = np.array([np.maximum(row.awareness_summation, row.visit_summation)])\n",
    "    Xs.append(X)\n",
    "    ys.append(y)\n",
    "    \n",
    "\n",
    "import numpy as np\n",
    "from sklearn.linear_model import LinearRegression\n",
    "from sklearn.tree import DecisionTreeRegressor\n",
    "from sklearn.ensemble import RandomForestClassifier\n",
    "from sklearn.linear_model import LogisticRegression\n",
    "import pandas as pd\n",
    "import numpy as np\n",
    "from sklearn import datasets, linear_model\n",
    "from sklearn.linear_model import LinearRegression\n",
    "import statsmodels.api as sm\n",
    "from scipy import stats\n",
    "\n",
    "Xs = np.array(Xs)\n",
    "ys = np.array(ys)#.reshape(-1,1)\n",
    "#reg = LinearRegression().fit(Xs, ys)\n",
    "# model = DecisionTreeRegressor()\n",
    "model = RandomForestClassifier(random_state=0)\n",
    "r = model.fit(Xs,ys.ravel())\n",
    "\n",
    "#for x in sorted(zip(r.feature_importances_, metrics), reverse = True):\n",
    "#    print(x)\n",
    "\n",
    "print()\n",
    "print()\n",
    "\n",
    "l = []\n",
    "model = LogisticRegression(max_iter=1000000)\n",
    "r = model.fit(Xs,ys.ravel())\n",
    "from collections import defaultdict\n",
    "d = defaultdict(lambda: [])\n",
    "\n",
    "for array in r.coef_:\n",
    "    for coef_index in range(len(array)):\n",
    "        coef = array[coef_index]\n",
    "        name = metrics[coef_index]\n",
    "        d[name].append(coef)\n",
    "\n",
    "import numpy as np        \n",
    "size = len(r.coef_[0])\n",
    "for coef_index in range(len(r.coef_[0])):\n",
    "    name = metrics[coef_index]\n",
    "    values = (np.median(d[name]), np.mean(d[name]), np.var(d[name]))\n",
    "    print(\"{0}: {1};\".format(name, values))\n",
    "#for coef, name in sorted(zip(model_array, metrics), reverse = True):\n",
    "#    print(\"{0}: {1}\".format(name, coef))"
   ]
  },
  {
   "cell_type": "code",
   "execution_count": 86,
   "metadata": {
    "execution_time": {
     "end_time": "2021-08-04T02:21:58.598331Z",
     "start_time": "2021-08-04T02:21:58.593389Z"
    }
   },
   "outputs": [],
   "source": [
    "%local\n",
    "r.coef_[0]"
   ]
  },
  {
   "cell_type": "code",
   "execution_count": 42,
   "metadata": {
    "execution_time": {
     "end_time": "2021-08-04T01:11:56.801187Z",
     "start_time": "2021-08-04T01:11:56.795909Z"
    }
   },
   "outputs": [],
   "source": [
    "%%local\n",
    "len(ys)\n",
    "len(local_pandas_df)"
   ]
  },
  {
   "cell_type": "code",
   "execution_count": 54,
   "metadata": {
    "execution_time": {
     "end_time": "2021-08-04T01:31:31.022726Z",
     "start_time": "2021-08-04T01:31:30.991736Z"
    }
   },
   "outputs": [],
   "source": [
    "%%local\n",
    "from sklearn.linear_model import LogisticRegression\n",
    "#from sklearn.model_selection import train_test_split\n",
    "from sklearn.model_selection import cross_validate\n",
    "metrics = ['awareness_0_1', 'awareness_2_3', 'awareness_4_7', 'awareness_8_30', 'awareness_31_60', 'awareness_61_90', 'awareness_91_120', 'awareness_121_150', 'awareness_151_180', 'awareness_181_210', 'awareness_211_240', 'awareness_241_270', 'awareness_271_300', 'awareness_301_330', 'awareness_331_360', 'visit_0_1', 'visit_2_3', 'visit_4_7', 'visit_8_30', 'visit_31_60', 'visit_61_90', 'visit_91_120', 'visit_121_150', 'visit_151_180', 'visit_181_210', 'visit_211_240', 'visit_241_270', 'visit_271_300', 'visit_301_330', 'visit_331_360']\n",
    "\n",
    "#X_train, X_test, y_train, y_test = train_test_split(Xs, ys, test_size=0.2, random_state=0)\n",
    "\n",
    "model = LogisticRegression(max_iter=100000)\n",
    "cv = cross_validate(model, Xs, ys.ravel(), cv=10, return_estimator=True)\n",
    "print(cv['test_score'])\n",
    "print(cv['test_score'].mean())\n",
    "print(cv['estimator'][0].coef_[0])\n",
    "\n",
    "for model in cv['estimator']:\n",
    "    for model_array in model.coef_:\n",
    "        for coef, name in sorted(zip(model_array, metrics), reverse = True):\n",
    "            print(\"{0}: {1}\".format(name, coef))"
   ]
  },
  {
   "cell_type": "code",
   "execution_count": null,
   "metadata": {
    "execution_time": {
     "end_time": "2021-07-29T01:04:20.726284Z",
     "start_time": "2021-07-29T01:04:20.701701Z"
    }
   },
   "outputs": [],
   "source": []
  },
  {
   "cell_type": "code",
   "execution_count": null,
   "metadata": {},
   "outputs": [],
   "source": []
  }
 ],
 "metadata": {
  "darwin": {
   "resource_id": 114982
  },
  "hide_input": false,
  "kernelspec": {
   "display_name": "PySpark3",
   "language": "python",
   "name": "pyspark3kernel"
  },
  "language_info": {
   "codemirror_mode": {
    "name": "python",
    "version": 3
   },
   "file_extension": ".py",
   "mimetype": "text/x-python",
   "name": "pyspark3",
   "pygments_lexer": "python3"
  }
 },
 "nbformat": 4,
 "nbformat_minor": 4
}